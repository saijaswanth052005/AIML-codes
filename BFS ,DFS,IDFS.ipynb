{
  "nbformat": 4,
  "nbformat_minor": 0,
  "metadata": {
    "colab": {
      "provenance": []
    },
    "kernelspec": {
      "name": "python3",
      "display_name": "Python 3"
    },
    "language_info": {
      "name": "python"
    }
  },
  "cells": [
    {
      "cell_type": "code",
      "execution_count": 1,
      "metadata": {
        "colab": {
          "base_uri": "https://localhost:8080/"
        },
        "id": "NPCxkXwnnKrJ",
        "outputId": "9f004b82-55c9-4300-abd7-8326555b6cd6"
      },
      "outputs": [
        {
          "output_type": "stream",
          "name": "stdout",
          "text": [
            "A\n",
            "B\n",
            "D\n",
            "E\n",
            "F\n",
            "C\n"
          ]
        },
        {
          "output_type": "execute_result",
          "data": {
            "text/plain": [
              "{'A', 'B', 'C', 'D', 'E', 'F'}"
            ]
          },
          "metadata": {},
          "execution_count": 1
        }
      ],
      "source": [
        "# Define the graph as an adjacency list\n",
        "graph = {\n",
        "    'A': ['B', 'C'],\n",
        "    'B': ['D', 'E'],\n",
        "    'C': ['F'],\n",
        "    'D': [],\n",
        "    'E': ['F'],\n",
        "    'F': []\n",
        "}\n",
        "\n",
        "# Define the DFS function\n",
        "def dfs(graph, start, visited=None):\n",
        "    if visited is None:\n",
        "        visited = set()  # Create a set to keep track of visited nodes\n",
        "    visited.add(start)  # Mark the current node as visited\n",
        "    print(start)  # Process the current node (print it)\n",
        "\n",
        "    for neighbor in graph[start]:  # Iterate over neighbors\n",
        "        if neighbor not in visited:  # If neighbor has not been visited\n",
        "            dfs(graph, neighbor, visited)  # Recursive call\n",
        "\n",
        "    return visited\n",
        "\n",
        "# Run DFS starting from node 'A'\n",
        "dfs(graph, 'A')\n"
      ]
    },
    {
      "cell_type": "code",
      "source": [
        "# Define the graph as an adjacency list\n",
        "graph = {\n",
        "    'A': ['B', 'C'],\n",
        "    'B': ['D', 'E'],\n",
        "    'C': ['F'],\n",
        "    'D': [],\n",
        "    'E': ['F'],\n",
        "    'F': []\n",
        "}\n",
        "\n",
        "# Define the BFS function\n",
        "from collections import deque\n",
        "\n",
        "def bfs(graph, start):\n",
        "    visited = set()  # Create a set to keep track of visited nodes\n",
        "    queue = deque([start])  # Create a queue for BFS and enqueue the starting node\n",
        "    visited.add(start)  # Mark the starting node as visited\n",
        "\n",
        "    while queue:  # While there are nodes to process\n",
        "        node = queue.popleft()  # Dequeue a node\n",
        "        print(node)  # Process the current node (print it)\n",
        "\n",
        "        for neighbor in graph[node]:  # Iterate over neighbors\n",
        "            if neighbor not in visited:  # If neighbor has not been visited\n",
        "                visited.add(neighbor)  # Mark it as visited\n",
        "                queue.append(neighbor)  # Enqueue the neighbor\n",
        "\n",
        "# Run BFS starting from node 'A'\n",
        "bfs(graph, 'A')\n"
      ],
      "metadata": {
        "colab": {
          "base_uri": "https://localhost:8080/"
        },
        "id": "OkTrFsTdnkf5",
        "outputId": "5d16a8c6-5c05-410b-f03f-e74c88c6e144"
      },
      "execution_count": 2,
      "outputs": [
        {
          "output_type": "stream",
          "name": "stdout",
          "text": [
            "A\n",
            "B\n",
            "C\n",
            "D\n",
            "E\n",
            "F\n"
          ]
        }
      ]
    },
    {
      "cell_type": "code",
      "source": [
        "# Define the graph as an adjacency list\n",
        "graph = {\n",
        "    'A': ['B', 'C'],\n",
        "    'B': ['D', 'E'],\n",
        "    'C': ['F'],\n",
        "    'D': [],\n",
        "    'E': ['F'],\n",
        "    'F': []\n",
        "}\n",
        "\n",
        "# Define the depth-limited DFS function\n",
        "def depth_limited_dfs(graph, node, depth, visited):\n",
        "    if depth == 0:\n",
        "        print(node)  # Process the node (print it)\n",
        "        return True  # Return True if the node is processed at this depth\n",
        "    if depth > 0:\n",
        "        for neighbor in graph[node]:\n",
        "            if neighbor not in visited:  # Avoid revisiting nodes\n",
        "                visited.add(neighbor)  # Mark neighbor as visited\n",
        "                if depth_limited_dfs(graph, neighbor, depth - 1, visited):\n",
        "                    return True\n",
        "    return False\n",
        "\n",
        "# Define the IDDFS function\n",
        "def iddfs(graph, start):\n",
        "    depth = 0\n",
        "    while True:\n",
        "        visited = set()  # Reset visited for each depth\n",
        "        visited.add(start)\n",
        "        print(f\"Depth {depth}:\")\n",
        "        if depth_limited_dfs(graph, start, depth, visited):\n",
        "            break  # Exit if the goal is found\n",
        "        depth += 1  # Increase depth limit\n",
        "\n",
        "# Run IDDFS starting from node 'A'\n",
        "iddfs(graph, 'A')\n"
      ],
      "metadata": {
        "colab": {
          "base_uri": "https://localhost:8080/"
        },
        "id": "YU1YTqukno93",
        "outputId": "cfb76baf-7d34-48d7-86df-2cbe5f9048bd"
      },
      "execution_count": 3,
      "outputs": [
        {
          "output_type": "stream",
          "name": "stdout",
          "text": [
            "Depth 0:\n",
            "A\n"
          ]
        }
      ]
    }
  ]
}