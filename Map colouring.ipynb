{
  "nbformat": 4,
  "nbformat_minor": 0,
  "metadata": {
    "colab": {
      "provenance": []
    },
    "kernelspec": {
      "name": "python3",
      "display_name": "Python 3"
    },
    "language_info": {
      "name": "python"
    }
  },
  "cells": [
    {
      "cell_type": "code",
      "execution_count": 2,
      "metadata": {
        "colab": {
          "base_uri": "https://localhost:8080/",
          "height": 729
        },
        "id": "1xn6iPhzqLAd",
        "outputId": "fa9f8725-9ade-445b-df82-6c3324c2ac58"
      },
      "outputs": [
        {
          "output_type": "stream",
          "name": "stdout",
          "text": [
            "Requirement already satisfied: matplotlib in /usr/local/lib/python3.10/dist-packages (3.8.0)\n",
            "Requirement already satisfied: contourpy>=1.0.1 in /usr/local/lib/python3.10/dist-packages (from matplotlib) (1.3.0)\n",
            "Requirement already satisfied: cycler>=0.10 in /usr/local/lib/python3.10/dist-packages (from matplotlib) (0.12.1)\n",
            "Requirement already satisfied: fonttools>=4.22.0 in /usr/local/lib/python3.10/dist-packages (from matplotlib) (4.54.1)\n",
            "Requirement already satisfied: kiwisolver>=1.0.1 in /usr/local/lib/python3.10/dist-packages (from matplotlib) (1.4.7)\n",
            "Requirement already satisfied: numpy<2,>=1.21 in /usr/local/lib/python3.10/dist-packages (from matplotlib) (1.26.4)\n",
            "Requirement already satisfied: packaging>=20.0 in /usr/local/lib/python3.10/dist-packages (from matplotlib) (24.1)\n",
            "Requirement already satisfied: pillow>=6.2.0 in /usr/local/lib/python3.10/dist-packages (from matplotlib) (10.4.0)\n",
            "Requirement already satisfied: pyparsing>=2.3.1 in /usr/local/lib/python3.10/dist-packages (from matplotlib) (3.2.0)\n",
            "Requirement already satisfied: python-dateutil>=2.7 in /usr/local/lib/python3.10/dist-packages (from matplotlib) (2.8.2)\n",
            "Requirement already satisfied: six>=1.5 in /usr/local/lib/python3.10/dist-packages (from python-dateutil>=2.7->matplotlib) (1.16.0)\n",
            "Coloring of the map: {'A': 1, 'B': 2, 'C': 2, 'D': 3, 'E': 1}\n"
          ]
        },
        {
          "output_type": "display_data",
          "data": {
            "text/plain": [
              "<Figure size 800x600 with 1 Axes>"
            ],
            "image/png": "[encoded data removed]"
          },
          "metadata": {}
        }
      ],
      "source": [
        "# Step 1: Install the matplotlib library\n",
        "!pip install matplotlib\n",
        "\n",
        "# Step 2: Run the map coloring code\n",
        "import matplotlib.pyplot as plt\n",
        "\n",
        "# Define the map as a graph using adjacency list\n",
        "graph = {\n",
        "    'A': ['B', 'C', 'D'],\n",
        "    'B': ['A', 'D', 'E'],\n",
        "    'C': ['A', 'D'],\n",
        "    'D': ['A', 'B', 'C', 'E'],\n",
        "    'E': ['B', 'D']\n",
        "}\n",
        "\n",
        "# Function to check if coloring is safe\n",
        "def is_safe(node, color, coloring):\n",
        "    for neighbor in graph[node]:\n",
        "        if neighbor in coloring and coloring[neighbor] == color:\n",
        "            return False\n",
        "    return True\n",
        "\n",
        "# Backtracking function to color the graph\n",
        "def map_coloring_util(nodes, m, coloring, index):\n",
        "    if index == len(nodes):\n",
        "        return True  # All nodes are colored\n",
        "\n",
        "    node = nodes[index]\n",
        "    for color in range(1, m + 1):\n",
        "        if is_safe(node, color, coloring):\n",
        "            coloring[node] = color  # Assign color\n",
        "            if map_coloring_util(nodes, m, coloring, index + 1):\n",
        "                return True\n",
        "            del coloring[node]  # Backtrack\n",
        "\n",
        "    return False\n",
        "\n",
        "# Function to color the map\n",
        "def map_coloring(m):\n",
        "    nodes = list(graph.keys())\n",
        "    coloring = {}\n",
        "    if not map_coloring_util(nodes, m, coloring, 0):\n",
        "        print(\"No solution exists\")\n",
        "        return None\n",
        "    return coloring\n",
        "\n",
        "# Function to visualize the coloring\n",
        "def draw_colored_map(coloring):\n",
        "    # Define colors\n",
        "    color_map = {1: 'red', 2: 'green', 3: 'blue', 4: 'yellow', 5: 'cyan'}\n",
        "\n",
        "    # Node positions for visualization\n",
        "    positions = {\n",
        "        'A': (0, 1),\n",
        "        'B': (1, 2),\n",
        "        'C': (0, 2),\n",
        "        'D': (1, 1),\n",
        "        'E': (1, 0)\n",
        "    }\n",
        "\n",
        "    plt.figure(figsize=(8, 6))\n",
        "\n",
        "    for node, color in coloring.items():\n",
        "        plt.scatter(*positions[node], s=500, color=color_map[color], label=node)\n",
        "        plt.text(positions[node][0], positions[node][1], node, fontsize=12, ha='center', va='center', color='white')\n",
        "\n",
        "    plt.title(\"Map Coloring Visualization\")\n",
        "    plt.xlim(-1, 2)\n",
        "    plt.ylim(-1, 3)\n",
        "    plt.xticks([])\n",
        "    plt.yticks([])\n",
        "    plt.grid(False)\n",
        "    plt.legend(loc='upper left')\n",
        "    plt.show()\n",
        "\n",
        "# Number of colors\n",
        "m = 3\n",
        "coloring = map_coloring(m)\n",
        "\n",
        "# Print the coloring result and visualize it\n",
        "if coloring:\n",
        "    print(\"Coloring of the map:\", coloring)\n",
        "    draw_colored_map(coloring)\n"
      ]
    }
  ]
}